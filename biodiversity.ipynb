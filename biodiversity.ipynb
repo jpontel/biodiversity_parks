{
 "cells": [
  {
   "cell_type": "code",
   "execution_count": 5,
   "metadata": {
    "ExecuteTime": {
     "end_time": "2024-01-21T14:15:13.964332Z",
     "start_time": "2024-01-21T14:15:13.958707Z"
    }
   },
   "outputs": [],
   "source": [
    "import pandas as pd\n",
    "import numpy as np\n",
    "import seaborn as sns\n",
    "from matplotlib.ticker import MultipleLocator\n",
    "from scipy.stats import chi2_contingency"
   ]
  },
  {
   "cell_type": "code",
   "execution_count": 6,
   "outputs": [],
   "source": [
    "df_width= '120px'\n",
    "observations_path = {'observations' : 'observations.csv'}\n",
    "species_path = {'species' : 'species_info.csv'}"
   ],
   "metadata": {
    "collapsed": false,
    "ExecuteTime": {
     "end_time": "2024-01-21T14:15:13.987073Z",
     "start_time": "2024-01-21T14:15:13.967242Z"
    }
   }
  },
  {
   "cell_type": "code",
   "execution_count": 7,
   "outputs": [
    {
     "data": {
      "text/plain": "  category                scientific_name  \\\n0   Mammal  Clethrionomys gapperi gapperi   \n1   Mammal                      Bos bison   \n2   Mammal                     Bos taurus   \n3   Mammal                     Ovis aries   \n4   Mammal                 Cervus elaphus   \n\n                                        common_names conservation_status  \n0                           Gapper's Red-Backed Vole                 NaN  \n1                              American Bison, Bison                 NaN  \n2  Aurochs, Aurochs, Domestic Cattle (Feral), Dom...                 NaN  \n3  Domestic Sheep, Mouflon, Red Sheep, Sheep (Feral)                 NaN  \n4                                      Wapiti Or Elk                 NaN  ",
      "text/html": "<div>\n<style scoped>\n    .dataframe tbody tr th:only-of-type {\n        vertical-align: middle;\n    }\n\n    .dataframe tbody tr th {\n        vertical-align: top;\n    }\n\n    .dataframe thead th {\n        text-align: right;\n    }\n</style>\n<table border=\"1\" class=\"dataframe\">\n  <thead>\n    <tr style=\"text-align: right;\">\n      <th></th>\n      <th>category</th>\n      <th>scientific_name</th>\n      <th>common_names</th>\n      <th>conservation_status</th>\n    </tr>\n  </thead>\n  <tbody>\n    <tr>\n      <th>0</th>\n      <td>Mammal</td>\n      <td>Clethrionomys gapperi gapperi</td>\n      <td>Gapper's Red-Backed Vole</td>\n      <td>NaN</td>\n    </tr>\n    <tr>\n      <th>1</th>\n      <td>Mammal</td>\n      <td>Bos bison</td>\n      <td>American Bison, Bison</td>\n      <td>NaN</td>\n    </tr>\n    <tr>\n      <th>2</th>\n      <td>Mammal</td>\n      <td>Bos taurus</td>\n      <td>Aurochs, Aurochs, Domestic Cattle (Feral), Dom...</td>\n      <td>NaN</td>\n    </tr>\n    <tr>\n      <th>3</th>\n      <td>Mammal</td>\n      <td>Ovis aries</td>\n      <td>Domestic Sheep, Mouflon, Red Sheep, Sheep (Feral)</td>\n      <td>NaN</td>\n    </tr>\n    <tr>\n      <th>4</th>\n      <td>Mammal</td>\n      <td>Cervus elaphus</td>\n      <td>Wapiti Or Elk</td>\n      <td>NaN</td>\n    </tr>\n  </tbody>\n</table>\n</div>"
     },
     "execution_count": 7,
     "metadata": {},
     "output_type": "execute_result"
    }
   ],
   "source": [
    "species_df= pd.read_csv(species_path['species'])\n",
    "species_df.head()"
   ],
   "metadata": {
    "collapsed": false,
    "ExecuteTime": {
     "end_time": "2024-01-21T14:15:14.013565Z",
     "start_time": "2024-01-21T14:15:13.976578Z"
    }
   }
  },
  {
   "cell_type": "code",
   "outputs": [
    {
     "data": {
      "text/plain": "            scientific_name               park_name  observations\n0        Vicia benghalensis  Great Smoky Mountains             68\n1            Neovison vison  Great Smoky Mountains             77\n2         Prunus subcordata               Yosemite            138\n3      Abutilon theophrasti                  Bryce             84\n4  Githopsis specularioides  Great Smoky Mountains             85",
      "text/html": "<div>\n<style scoped>\n    .dataframe tbody tr th:only-of-type {\n        vertical-align: middle;\n    }\n\n    .dataframe tbody tr th {\n        vertical-align: top;\n    }\n\n    .dataframe thead th {\n        text-align: right;\n    }\n</style>\n<table border=\"1\" class=\"dataframe\">\n  <thead>\n    <tr style=\"text-align: right;\">\n      <th></th>\n      <th>scientific_name</th>\n      <th>park_name</th>\n      <th>observations</th>\n    </tr>\n  </thead>\n  <tbody>\n    <tr>\n      <th>0</th>\n      <td>Vicia benghalensis</td>\n      <td>Great Smoky Mountains</td>\n      <td>68</td>\n    </tr>\n    <tr>\n      <th>1</th>\n      <td>Neovison vison</td>\n      <td>Great Smoky Mountains</td>\n      <td>77</td>\n    </tr>\n    <tr>\n      <th>2</th>\n      <td>Prunus subcordata</td>\n      <td>Yosemite</td>\n      <td>138</td>\n    </tr>\n    <tr>\n      <th>3</th>\n      <td>Abutilon theophrasti</td>\n      <td>Bryce</td>\n      <td>84</td>\n    </tr>\n    <tr>\n      <th>4</th>\n      <td>Githopsis specularioides</td>\n      <td>Great Smoky Mountains</td>\n      <td>85</td>\n    </tr>\n  </tbody>\n</table>\n</div>"
     },
     "execution_count": 10,
     "metadata": {},
     "output_type": "execute_result"
    }
   ],
   "source": [
    "obs_df= pd.read_csv(observations_path['observations'])\n",
    "obs_df.park_name= obs_df.park_name.str.replace('national park', '', case=False)\n",
    "obs_df.head()"
   ],
   "metadata": {
    "collapsed": false,
    "ExecuteTime": {
     "end_time": "2024-01-21T14:17:38.618821Z",
     "start_time": "2024-01-21T14:17:38.523870Z"
    }
   },
   "execution_count": 10
  },
  {
   "cell_type": "code",
   "outputs": [
    {
     "data": {
      "text/plain": "  conservation status\n0                 NaN\n1  Species of Concern\n2          Endangered\n3          Threatened\n4         In Recovery",
      "text/html": "<div>\n<style scoped>\n    .dataframe tbody tr th:only-of-type {\n        vertical-align: middle;\n    }\n\n    .dataframe tbody tr th {\n        vertical-align: top;\n    }\n\n    .dataframe thead th {\n        text-align: right;\n    }\n</style>\n<table border=\"1\" class=\"dataframe\">\n  <thead>\n    <tr style=\"text-align: right;\">\n      <th></th>\n      <th>conservation status</th>\n    </tr>\n  </thead>\n  <tbody>\n    <tr>\n      <th>0</th>\n      <td>NaN</td>\n    </tr>\n    <tr>\n      <th>1</th>\n      <td>Species of Concern</td>\n    </tr>\n    <tr>\n      <th>2</th>\n      <td>Endangered</td>\n    </tr>\n    <tr>\n      <th>3</th>\n      <td>Threatened</td>\n    </tr>\n    <tr>\n      <th>4</th>\n      <td>In Recovery</td>\n    </tr>\n  </tbody>\n</table>\n</div>"
     },
     "metadata": {},
     "output_type": "display_data"
    }
   ],
   "source": [
    "display(pd.DataFrame({'conservation status': species_df.conservation_status.unique()}))"
   ],
   "metadata": {
    "collapsed": false,
    "ExecuteTime": {
     "end_time": "2024-01-21T14:19:19.956146Z",
     "start_time": "2024-01-21T14:19:19.860873Z"
    }
   },
   "execution_count": 12
  },
  {
   "cell_type": "code",
   "outputs": [],
   "source": [
    "species_df.conservation_status[species_df.conservation_status.isna()] = 'Low Risk'"
   ],
   "metadata": {
    "collapsed": false,
    "ExecuteTime": {
     "end_time": "2024-01-21T14:22:11.190853Z",
     "start_time": "2024-01-21T14:22:11.179131Z"
    }
   },
   "execution_count": 13
  }
 ],
 "metadata": {
  "kernelspec": {
   "display_name": "Python 3",
   "language": "python",
   "name": "python3"
  },
  "language_info": {
   "codemirror_mode": {
    "name": "ipython",
    "version": 3
   },
   "file_extension": ".py",
   "mimetype": "text/x-python",
   "name": "python",
   "nbconvert_exporter": "python",
   "pygments_lexer": "ipython3",
   "version": "3.7.6"
  }
 },
 "nbformat": 4,
 "nbformat_minor": 4
}
